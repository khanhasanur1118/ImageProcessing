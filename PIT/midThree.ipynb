{
  "nbformat": 4,
  "nbformat_minor": 0,
  "metadata": {
    "colab": {
      "provenance": []
    },
    "kernelspec": {
      "name": "python3",
      "display_name": "Python 3"
    },
    "language_info": {
      "name": "python"
    }
  },
  "cells": [
    {
      "cell_type": "code",
      "execution_count": 6,
      "metadata": {
        "id": "oLxZDLEpETMx"
      },
      "outputs": [],
      "source": [
        "import numpy as np\n",
        "import os\n",
        "import cv2\n",
        "from sklearn.model_selection import train_test_split\n",
        "from keras.applications import EfficientNetB0\n",
        "from keras.models import Sequential\n",
        "from keras.layers import GlobalAveragePooling2D, Dense\n",
        "from keras.optimizers import Adam\n",
        "from keras.utils import to_categorical\n",
        "\n"
      ]
    },
    {
      "cell_type": "code",
      "source": [
        "from google.colab import drive\n",
        "drive.mount('/content/drive') # Change the mount point to '/content/drive'\n",
        "\n",
        "# Set your dataset directory\n",
        "dataset_dir = '/content/drive/MyDrive/Datasets/PaddyDS'\n"
      ],
      "metadata": {
        "colab": {
          "base_uri": "https://localhost:8080/"
        },
        "id": "SYj_4H2tvkee",
        "outputId": "2c4811cd-8722-4a30-9258-2d80bc3f1c90"
      },
      "execution_count": 3,
      "outputs": [
        {
          "output_type": "stream",
          "name": "stdout",
          "text": [
            "Mounted at /content/drive\n"
          ]
        }
      ]
    },
    {
      "cell_type": "code",
      "source": [
        "# Define the image dimensions\n",
        "img_height, img_width = 224, 224\n",
        "\n",
        "# Load and preprocess the data\n",
        "def load_data(dataset_dir):\n",
        "    images = []\n",
        "    labels = []\n",
        "    for folder in os.listdir(dataset_dir):\n",
        "        label = folder\n",
        "        folder_path = os.path.join(dataset_dir, folder)\n",
        "        for filename in os.listdir(folder_path):\n",
        "            img = cv2.imread(os.path.join(folder_path, filename))\n",
        "            img = cv2.resize(img, (img_height, img_width))\n",
        "            images.append(img)\n",
        "            labels.append(label)\n",
        "    images = np.array(images)\n",
        "    labels = np.array(labels)\n",
        "    return images, labels\n",
        "\n",
        "images, labels = load_data(dataset_dir)\n",
        "\n",
        "label_dict = {'bacterial_leaf_blight': 0, 'bacterial_leaf_streak': 1, 'bacterial_panicle_blight': 2, 'blast': 3, 'normal': 4}\n",
        "labels = np.array([label_dict[label] for label in labels])\n",
        "labels = to_categorical(labels)\n",
        "\n",
        "# Split the data into train and test sets\n",
        "X_train, X_test, y_train, y_test = train_test_split(images, labels, test_size=0.2, random_state=42)\n",
        "\n",
        "# Load model\n",
        "base_model = EfficientNetB0(weights='imagenet', include_top=False, input_shape=(img_height, img_width, 3))\n",
        "\n",
        "# Add custom top layers for classification\n",
        "model = Sequential([\n",
        "    base_model,\n",
        "    GlobalAveragePooling2D(),\n",
        "    Dense(256, activation='relu'),\n",
        "    Dense(5, activation='softmax')\n",
        "])\n",
        "\n",
        "# Compile the model\n",
        "model.compile(optimizer=Adam(), loss='categorical_crossentropy', metrics=['accuracy'])\n",
        "\n",
        "# Train the model\n",
        "model.fit(X_train, y_train, batch_size=32, epochs=10, validation_data=(X_test, y_test))\n"
      ],
      "metadata": {
        "colab": {
          "base_uri": "https://localhost:8080/"
        },
        "id": "45ORGkUrE0zO",
        "outputId": "7948c764-d8c1-4d51-d59f-22d7aee8c2b1"
      },
      "execution_count": 7,
      "outputs": [
        {
          "output_type": "stream",
          "name": "stdout",
          "text": [
            "Downloading data from https://storage.googleapis.com/keras-applications/efficientnetb0_notop.h5\n",
            "\u001b[1m16705208/16705208\u001b[0m \u001b[32m━━━━━━━━━━━━━━━━━━━━\u001b[0m\u001b[37m\u001b[0m \u001b[1m0s\u001b[0m 0us/step\n",
            "Epoch 1/10\n",
            "\u001b[1m14/14\u001b[0m \u001b[32m━━━━━━━━━━━━━━━━━━━━\u001b[0m\u001b[37m\u001b[0m \u001b[1m210s\u001b[0m 11s/step - accuracy: 0.4524 - loss: 1.3064 - val_accuracy: 0.2636 - val_loss: 2.1933\n",
            "Epoch 2/10\n",
            "\u001b[1m14/14\u001b[0m \u001b[32m━━━━━━━━━━━━━━━━━━━━\u001b[0m\u001b[37m\u001b[0m \u001b[1m202s\u001b[0m 11s/step - accuracy: 0.9099 - loss: 0.3139 - val_accuracy: 0.6091 - val_loss: 1.8433\n",
            "Epoch 3/10\n",
            "\u001b[1m14/14\u001b[0m \u001b[32m━━━━━━━━━━━━━━━━━━━━\u001b[0m\u001b[37m\u001b[0m \u001b[1m198s\u001b[0m 11s/step - accuracy: 0.9847 - loss: 0.0744 - val_accuracy: 0.5545 - val_loss: 1.8376\n",
            "Epoch 4/10\n",
            "\u001b[1m14/14\u001b[0m \u001b[32m━━━━━━━━━━━━━━━━━━━━\u001b[0m\u001b[37m\u001b[0m \u001b[1m200s\u001b[0m 11s/step - accuracy: 0.9778 - loss: 0.0565 - val_accuracy: 0.6909 - val_loss: 1.6522\n",
            "Epoch 5/10\n",
            "\u001b[1m14/14\u001b[0m \u001b[32m━━━━━━━━━━━━━━━━━━━━\u001b[0m\u001b[37m\u001b[0m \u001b[1m148s\u001b[0m 11s/step - accuracy: 0.9983 - loss: 0.0150 - val_accuracy: 0.6727 - val_loss: 2.6906\n",
            "Epoch 6/10\n",
            "\u001b[1m14/14\u001b[0m \u001b[32m━━━━━━━━━━━━━━━━━━━━\u001b[0m\u001b[37m\u001b[0m \u001b[1m206s\u001b[0m 11s/step - accuracy: 0.9898 - loss: 0.0246 - val_accuracy: 0.6818 - val_loss: 2.7592\n",
            "Epoch 7/10\n",
            "\u001b[1m14/14\u001b[0m \u001b[32m━━━━━━━━━━━━━━━━━━━━\u001b[0m\u001b[37m\u001b[0m \u001b[1m198s\u001b[0m 11s/step - accuracy: 0.9459 - loss: 0.1487 - val_accuracy: 0.6818 - val_loss: 3.7980\n",
            "Epoch 8/10\n",
            "\u001b[1m14/14\u001b[0m \u001b[32m━━━━━━━━━━━━━━━━━━━━\u001b[0m\u001b[37m\u001b[0m \u001b[1m203s\u001b[0m 11s/step - accuracy: 0.9454 - loss: 0.1689 - val_accuracy: 0.7364 - val_loss: 1.8983\n",
            "Epoch 9/10\n",
            "\u001b[1m14/14\u001b[0m \u001b[32m━━━━━━━━━━━━━━━━━━━━\u001b[0m\u001b[37m\u001b[0m \u001b[1m203s\u001b[0m 11s/step - accuracy: 0.9418 - loss: 0.1758 - val_accuracy: 0.7909 - val_loss: 1.9390\n",
            "Epoch 10/10\n",
            "\u001b[1m14/14\u001b[0m \u001b[32m━━━━━━━━━━━━━━━━━━━━\u001b[0m\u001b[37m\u001b[0m \u001b[1m196s\u001b[0m 10s/step - accuracy: 0.9832 - loss: 0.0660 - val_accuracy: 0.7364 - val_loss: 3.2342\n"
          ]
        },
        {
          "output_type": "execute_result",
          "data": {
            "text/plain": [
              "<keras.src.callbacks.history.History at 0x788ed9201f10>"
            ]
          },
          "metadata": {},
          "execution_count": 7
        }
      ]
    }
  ]
}